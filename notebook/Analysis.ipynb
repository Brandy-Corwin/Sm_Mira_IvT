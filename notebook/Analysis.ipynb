{
 "cells": [
  {
   "attachments": {},
   "cell_type": "markdown",
   "metadata": {},
   "source": [
    "# Analysis of Miracidia \n",
    "\n",
    "### Get reference genome and annotations"
   ]
  },
  {
   "cell_type": "code",
   "execution_count": null,
   "metadata": {},
   "outputs": [],
   "source": [
    "!mkdir genome\n",
    "%cd genome\n",
    "!wget -nc -O - https://ftp.ebi.ac.uk/pub/databases/wormbase/parasite/releases/WBPS19/species/schistosoma_mansoni/PRJEA36577/schistosoma_mansoni.PRJEA36577.WBPS19.genomic.fa.gz | \\\n",
    "    gzip -f -d > genome.fa"
   ]
  },
  {
   "cell_type": "code",
   "execution_count": null,
   "metadata": {},
   "outputs": [],
   "source": [
    "!wget -O - https://ftp.ebi.ac.uk/pub/databases/wormbase/parasite/releases/WBPS19/species/schistosoma_mansoni/PRJEA36577/schistosoma_mansoni.PRJEA36577.WBPS19.canonical_geneset.gtf.gz | \\\n",
    "    gzip -f -d > annotations.gtf"
   ]
  },
  {
   "attachments": {},
   "cell_type": "markdown",
   "metadata": {},
   "source": [
    "### Run fastqc on fastq files"
   ]
  },
  {
   "cell_type": "code",
   "execution_count": null,
   "metadata": {},
   "outputs": [],
   "source": [
    "%cd ..\n",
    "!mkdir fastq/qc\n",
    "!fastqc -t 16 /data/classes/2024/fall/biol343/course_files/20240923_LH00283_0144_B22NMVKLT3/*.fastq.gz -o fastq/qc"
   ]
  },
  {
   "attachments": {},
   "cell_type": "markdown",
   "metadata": {},
   "source": [
    "Explain qc output here"
   ]
  },
  {
   "attachments": {},
   "cell_type": "markdown",
   "metadata": {},
   "source": [
    "### Trim the fastqs"
   ]
  },
  {
   "cell_type": "code",
   "execution_count": null,
   "metadata": {},
   "outputs": [],
   "source": [
    "%mkdir trimmed\n",
    "!for fastq in /data/classes/2024/fall/biol343/course_files/20240923_LH00283_0144_B22NMVKLT3//*.fastq.gz; do \\\n",
    "    base_name=$(basename \"$fastq\" .fastq.gz); \\\n",
    "    # change this line to fit what we need to trim\n",
    "    cutadapt -j 16 -m 20 --poly-a --nextseq-trim=10 -o ./trimmed/$base_name.fastq.gz $fastq; \\\n",
    "done"
   ]
  }
 ],
 "metadata": {
  "kernelspec": {
   "display_name": "biol343_final_project",
   "language": "python",
   "name": "python3"
  },
  "language_info": {
   "name": "python",
   "version": "3.12.3"
  },
  "orig_nbformat": 4
 },
 "nbformat": 4,
 "nbformat_minor": 2
}
